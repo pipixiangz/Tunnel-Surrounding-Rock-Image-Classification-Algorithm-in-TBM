{
 "cells": [
  {
   "cell_type": "markdown",
   "id": "cf5fc2d2",
   "metadata": {
    "collapsed": false
   },
   "source": [
    "## 数据集处理"
   ]
  },
  {
   "cell_type": "markdown",
   "metadata": {
    "collapsed": false
   },
   "source": [
    "### 随机训练集测试集"
   ]
  },
  {
   "cell_type": "code",
   "execution_count": 11,
   "metadata": {
    "collapsed": false
   },
   "outputs": [],
   "source": [
    "# coding=utf-8\n",
    "# 随机生成训练集和测试集\n",
    "# 对一个文件夹下的图像生成txt，然后随机选取里面的内容，然后保存到不同的文件夹。\n",
    "# coding=utf-8\n",
    "import os, random, shutil\n",
    "\n",
    "\n",
    "def moveFile(fileDir):\n",
    "    pathDir = os.listdir(fileDir)  # 取图片的原始路径\n",
    "    filenumber = len(pathDir)\n",
    "    picknumber = int(filenumber * ratio)  # 按照rate比例从文件夹中取一定数量图片\n",
    "    sample = random.sample(pathDir, picknumber)  # 随机选取picknumber数量的样本图片\n",
    "    for name in pathDir:\n",
    "        if name in sample:\n",
    "            shutil.copy(os.path.join(fileDir, name), os.path.join(tarDir, name))\n",
    "        else:\n",
    "            shutil.copy(os.path.join(fileDir, name), os.path.join(tarDir1, name))\n",
    "    return\n",
    "\n",
    "\n",
    "if __name__ == '__main__':\n",
    "    ori_path = 'D:\\\\CS第四学期课程\\\\毕业设计\\\\代码\\\\data\\\\有效数据\\\\training'  # 最开始train的文件夹路径\n",
    "    split_Dir1 = 'D:\\\\CS第四学期课程\\\\毕业设计\\\\代码\\\\data\\\\train'  # 移动到新的文件夹路径，训练\n",
    "    split_Dir = 'D:\\\\CS第四学期课程\\\\毕业设计\\\\代码\\\\data\\\\test'  # 移动到新的文件夹路径，测试\n",
    "    ratio = 0.3  # 抽取比例\n",
    "    for firstPath in os.listdir(ori_path):\n",
    "        fileDir = os.path.join(ori_path, firstPath)  # 原图片文件夹路径\n",
    "        tarDir1 = os.path.join(split_Dir1, firstPath)  # train下子文件夹名字\n",
    "        tarDir = os.path.join(split_Dir, firstPath)  # val下子文件夹名字\n",
    "        if not os.path.exists(tarDir):  # 如果val下没有子文件夹，就创建\n",
    "            os.makedirs(tarDir)\n",
    "        if not os.path.exists(tarDir1):  # 如果train下没有子文件夹，就创建\n",
    "            os.makedirs(tarDir1)\n",
    "        moveFile(fileDir)  # 从每个子类别开始逐个划分"
   ]
  },
  {
   "cell_type": "markdown",
   "metadata": {
    "collapsed": false
   },
   "source": [
    "### 对训练集的图像进行镜像处理"
   ]
  },
  {
   "cell_type": "code",
   "execution_count": 3,
   "metadata": {
    "collapsed": false
   },
   "outputs": [
    {
     "name": "stderr",
     "output_type": "stream",
     "text": [
      "C:\\Users\\ZhaoXiang\\AppData\\Local\\Temp\\ipykernel_14016\\2498443149.py:15: DeprecationWarning: FLIP_LEFT_RIGHT is deprecated and will be removed in Pillow 10 (2023-07-01). Use Transpose.FLIP_LEFT_RIGHT instead.\n",
      "  out = image.transpose(Image.FLIP_LEFT_RIGHT)\n"
     ]
    },
    {
     "ename": "KeyboardInterrupt",
     "evalue": "",
     "output_type": "error",
     "traceback": [
      "\u001b[1;31m---------------------------------------------------------------------------\u001b[0m",
      "\u001b[1;31mKeyboardInterrupt\u001b[0m                         Traceback (most recent call last)",
      "\u001b[1;32m~\\AppData\\Local\\Temp\\ipykernel_14016\\2498443149.py\u001b[0m in \u001b[0;36m<module>\u001b[1;34m\u001b[0m\n\u001b[0;32m     13\u001b[0m         \u001b[0mimage\u001b[0m \u001b[1;33m=\u001b[0m \u001b[0mImage\u001b[0m\u001b[1;33m.\u001b[0m\u001b[0mopen\u001b[0m\u001b[1;33m(\u001b[0m\u001b[0mfileDir\u001b[0m\u001b[1;33m+\u001b[0m\u001b[1;34m'\\\\'\u001b[0m\u001b[1;33m+\u001b[0m\u001b[0mname\u001b[0m\u001b[1;33m)\u001b[0m\u001b[1;33m\u001b[0m\u001b[1;33m\u001b[0m\u001b[0m\n\u001b[0;32m     14\u001b[0m         \u001b[1;31m# 图像左右翻转\u001b[0m\u001b[1;33m\u001b[0m\u001b[1;33m\u001b[0m\u001b[0m\n\u001b[1;32m---> 15\u001b[1;33m         \u001b[0mout\u001b[0m \u001b[1;33m=\u001b[0m \u001b[0mimage\u001b[0m\u001b[1;33m.\u001b[0m\u001b[0mtranspose\u001b[0m\u001b[1;33m(\u001b[0m\u001b[0mImage\u001b[0m\u001b[1;33m.\u001b[0m\u001b[0mFLIP_LEFT_RIGHT\u001b[0m\u001b[1;33m)\u001b[0m\u001b[1;33m\u001b[0m\u001b[1;33m\u001b[0m\u001b[0m\n\u001b[0m\u001b[0;32m     16\u001b[0m         \u001b[1;31m# 重命名\u001b[0m\u001b[1;33m\u001b[0m\u001b[1;33m\u001b[0m\u001b[0m\n\u001b[0;32m     17\u001b[0m         \u001b[0msavename\u001b[0m \u001b[1;33m=\u001b[0m \u001b[0mfileDir\u001b[0m\u001b[1;33m+\u001b[0m\u001b[1;34m'\\\\'\u001b[0m\u001b[1;33m+\u001b[0m\u001b[0mname\u001b[0m\u001b[1;33m[\u001b[0m\u001b[1;33m:\u001b[0m\u001b[1;33m-\u001b[0m\u001b[1;36m4\u001b[0m\u001b[1;33m]\u001b[0m\u001b[1;33m+\u001b[0m\u001b[1;34m\"_mirr.bmp\"\u001b[0m\u001b[1;33m\u001b[0m\u001b[1;33m\u001b[0m\u001b[0m\n",
      "\u001b[1;32mD:\\Anaconda\\Anaconda3\\lib\\site-packages\\PIL\\Image.py\u001b[0m in \u001b[0;36mtranspose\u001b[1;34m(self, method)\u001b[0m\n\u001b[0;32m   2687\u001b[0m \u001b[1;33m\u001b[0m\u001b[0m\n\u001b[0;32m   2688\u001b[0m         \u001b[0mself\u001b[0m\u001b[1;33m.\u001b[0m\u001b[0mload\u001b[0m\u001b[1;33m(\u001b[0m\u001b[1;33m)\u001b[0m\u001b[1;33m\u001b[0m\u001b[1;33m\u001b[0m\u001b[0m\n\u001b[1;32m-> 2689\u001b[1;33m         \u001b[1;32mreturn\u001b[0m \u001b[0mself\u001b[0m\u001b[1;33m.\u001b[0m\u001b[0m_new\u001b[0m\u001b[1;33m(\u001b[0m\u001b[0mself\u001b[0m\u001b[1;33m.\u001b[0m\u001b[0mim\u001b[0m\u001b[1;33m.\u001b[0m\u001b[0mtranspose\u001b[0m\u001b[1;33m(\u001b[0m\u001b[0mmethod\u001b[0m\u001b[1;33m)\u001b[0m\u001b[1;33m)\u001b[0m\u001b[1;33m\u001b[0m\u001b[1;33m\u001b[0m\u001b[0m\n\u001b[0m\u001b[0;32m   2690\u001b[0m \u001b[1;33m\u001b[0m\u001b[0m\n\u001b[0;32m   2691\u001b[0m     \u001b[1;32mdef\u001b[0m \u001b[0meffect_spread\u001b[0m\u001b[1;33m(\u001b[0m\u001b[0mself\u001b[0m\u001b[1;33m,\u001b[0m \u001b[0mdistance\u001b[0m\u001b[1;33m)\u001b[0m\u001b[1;33m:\u001b[0m\u001b[1;33m\u001b[0m\u001b[1;33m\u001b[0m\u001b[0m\n",
      "\u001b[1;31mKeyboardInterrupt\u001b[0m: "
     ]
    }
   ],
   "source": [
    "\n",
    "# coding=utf-8\n",
    "# 训练集扩充：生成镜像\n",
    "from PIL import Image\n",
    "import os\n",
    "\n",
    "rootPath = 'D:\\\\CS第四学期课程\\\\毕业设计\\\\代码\\\\data\\\\train'\n",
    "for firstPath in os.listdir(rootPath):\n",
    "    # 将子文件夹的名字加入到路径里面\n",
    "    fileDir = os.path.join(rootPath, firstPath)\n",
    "    pathDir = os.listdir(fileDir)\n",
    "    filenumber = len(pathDir)\n",
    "    for name in pathDir:\n",
    "        image = Image.open(fileDir+'\\\\'+name)\n",
    "        # 图像左右翻转\n",
    "        out = image.transpose(Image.FLIP_LEFT_RIGHT)\n",
    "        # 重命名\n",
    "        savename = fileDir+'\\\\'+name[:-4]+\"_mirr.bmp\"\n",
    "        # 图像存储\n",
    "        out.save(savename, quality=100)  # quality=100"
   ]
  },
  {
   "cell_type": "markdown",
   "metadata": {
    "collapsed": false
   },
   "source": [
    "### 集合所有图片（包括镜像）"
   ]
  },
  {
   "cell_type": "code",
   "execution_count": 8,
   "metadata": {
    "collapsed": false
   },
   "outputs": [
    {
     "name": "stderr",
     "output_type": "stream",
     "text": [
      "C:\\Users\\ZhaoXiang\\AppData\\Local\\Temp\\ipykernel_14016\\1028509792.py:7: DeprecationWarning: FLIP_LEFT_RIGHT is deprecated and will be removed in Pillow 10 (2023-07-01). Use Transpose.FLIP_LEFT_RIGHT instead.\n",
      "  out = image.transpose(Image.FLIP_LEFT_RIGHT)\n"
     ]
    }
   ],
   "source": [
    "rootPath = 'D:\\\\CS第四学期课程\\\\毕业设计\\\\代码\\\\data\\\\backup\\\\allMirrors'\n",
    "savePath = 'D:\\\\CS第四学期课程\\\\毕业设计\\\\代码\\\\data\\\\backup\\\\allMirrors'\n",
    "for firstPath in os.listdir(rootPath):\n",
    "    # 将子文件夹的名字加入到路径里面\n",
    "    image = Image.open(rootPath + '\\\\' + firstPath)\n",
    "    # 图像左右翻转\n",
    "    out = image.transpose(Image.FLIP_LEFT_RIGHT)\n",
    "    # 重命名\n",
    "    saveName = savePath+'\\\\'+firstPath[:-4]+\"_mirr.bmp\"\n",
    "    # 图像存储\n",
    "    out.save(saveName, quality=100)  # quality=100"
   ]
  },
  {
   "cell_type": "markdown",
   "id": "d6c3fcee",
   "metadata": {
    "collapsed": false
   },
   "source": [
    "### 生成txt文件"
   ]
  },
  {
   "cell_type": "code",
   "execution_count": 2,
   "id": "f15ab080",
   "metadata": {},
   "outputs": [],
   "source": [
    "import os\n",
    "import codecs\n",
    "\n",
    "# 训练集\n",
    "txt_file = 'D:\\\\CS第四学期课程\\\\毕业设计\\\\代码\\\\data\\\\train.txt'\n",
    "for i in range(1,5):\n",
    "    # 读取文件夹中的文件名\n",
    "    folder = 'D:\\\\CS第四学期课程\\\\毕业设计\\\\代码\\\\data\\\\train\\\\'+ str(i)\n",
    "    filenames = os.listdir(folder)\n",
    "    with codecs.open(txt_file, 'a', 'utf-8') as f:\n",
    "        for filename in filenames:\n",
    "            f.write(filename + ' ' + str(i-1) + '\\n')"
   ]
  },
  {
   "cell_type": "code",
   "execution_count": 3,
   "metadata": {
    "collapsed": false
   },
   "outputs": [],
   "source": [
    "# 测试集\n",
    "txt_file = 'D:\\\\CS第四学期课程\\\\毕业设计\\\\代码\\\\data\\\\test.txt'\n",
    "for i in range(1,5):\n",
    "    # 读取文件夹中的文件名\n",
    "    folder = 'D:\\\\CS第四学期课程\\\\毕业设计\\\\代码\\\\data\\\\test\\\\'+ str(i)\n",
    "    filenames = os.listdir(folder)\n",
    "    with codecs.open(txt_file, 'a', 'utf-8') as f:\n",
    "        for filename in filenames:\n",
    "            f.write(filename + ' ' + str(i-1) + '\\n')"
   ]
  },
  {
   "cell_type": "code",
   "execution_count": null,
   "id": "d717b533",
   "metadata": {},
   "outputs": [],
   "source": [
    "# ulb\n",
    "import os\n",
    "import codecs\n",
    "\n",
    "# 训练集\n",
    "txt_file = 'D:\\\\CS第四学期课程\\\\毕业设计\\\\代码\\\\data\\\\ulb.txt'\n",
    "for i in range(1,5):\n",
    "    # 读取文件夹中的文件名\n",
    "    folder = 'D:\\\\CS第四学期课程\\\\毕业设计\\\\代码\\\\data\\\\train\\\\'+ str(i)\n",
    "    filenames = os.listdir(folder)\n",
    "    with codecs.open(txt_file, 'a', 'utf-8') as f:\n",
    "        for filename in filenames:\n",
    "            f.write(filename + ' ' + str(i-1) + '\\n')"
   ]
  },
  {
   "cell_type": "markdown",
   "metadata": {
    "collapsed": false
   },
   "source": [
    "### 生成数据集"
   ]
  },
  {
   "cell_type": "code",
   "execution_count": 7,
   "id": "61a6ad8a",
   "metadata": {},
   "outputs": [
    {
     "name": "stdout",
     "output_type": "stream",
     "text": [
      "妥了\n"
     ]
    }
   ],
   "source": [
    "import torchvision.transforms as transforms\n",
    "from PIL import Image\n",
    "import torch\n",
    " \n",
    "class MyDataset(torch.utils.data.Dataset): #创建自己的类：MyDataset,这个类是继承的torch.utils.data.Dataset\n",
    "    def __init__(self, root, datatxt, transform=None, target_transform=None): #初始化一些需要传入的参数\n",
    "        \n",
    "        fh = open(root + datatxt, 'r') #按照传入的路径和txt文本参数，打开这个文本，并读取内容\n",
    "        imgs = []                      #创建一个名为img的空列表，一会儿用来装东西\n",
    "        for line in fh:                #按行循环txt文本中的内容\n",
    "            line = line.rstrip()       # 删除 本行string 字符串末尾的指定字符，这个方法的详细介绍自己查询python\n",
    "            words = line.split()   #通过指定分隔符对字符串进行切片，默认为所有的空字符，包括空格、换行、制表符等\n",
    "            imgs.append((words[0]+' '+words[1],int(words[2]))) #把txt里的内容读入imgs列表保存，具体是words几要看txt内容而定\n",
    "                                        # 很显然，根据我刚才截图所示txt的内容，words[0]是图片信息，words[1]是label\n",
    "        self.imgs = imgs\n",
    "        self.transform = transform\n",
    "        self.target_transform = target_transform\n",
    " \n",
    "    def __getitem__(self, index):    #这个方法是必须要有的，用于按照索引读取每个元素的具体内容\n",
    "        fn, label = self.imgs[index] #fn是图片path #fn和label分别获得imgs[index]也即是刚才每行中word[0]和word[1]的信息\n",
    "        img = Image.open(root+fn).convert('RGB') #按照path读入图片from PIL import Image # 按照路径读取图片\n",
    " \n",
    "        if self.transform is not None:\n",
    "            img = self.transform(img) #是否进行transform\n",
    "        return img,label  #return很关键，return回哪些内容，那么我们在训练时循环读取每个batch时，就能获得哪些内容\n",
    " \n",
    "    def __len__(self): #这个函数也必须要写，它返回的是数据集的长度，也就是多少张图片，要和loader的长度作区分\n",
    "        return len(self.imgs)\n",
    " \n",
    "#根据自己定义的MyDataset来创建数据集！注意是数据集！而不是loader迭代器\n",
    "root = 'D:\\\\CS第四学期课程\\\\毕业设计\\\\代码\\\\data\\\\'\n",
    "train_data=MyDataset(root, datatxt='train.txt', transform=transforms.ToTensor())\n",
    "test_data=MyDataset(root, datatxt='test.txt', transform=transforms.ToTensor())\n",
    "print(\"妥了\")"
   ]
  },
  {
   "cell_type": "markdown",
   "metadata": {
    "collapsed": false
   },
   "source": [
    "### 批量图像等比例缩放"
   ]
  },
  {
   "cell_type": "code",
   "execution_count": 11,
   "metadata": {
    "collapsed": false
   },
   "outputs": [
    {
     "name": "stderr",
     "output_type": "stream",
     "text": [
      "C:\\Users\\ZhaoXiang\\AppData\\Local\\Temp\\ipykernel_14016\\1229665839.py:17: DeprecationWarning: ANTIALIAS is deprecated and will be removed in Pillow 10 (2023-07-01). Use Resampling.LANCZOS instead.\n",
      "  out=image.resize((new_longest,new_height),Image.ANTIALIAS)\n"
     ]
    }
   ],
   "source": [
    "import os\n",
    "from PIL import Image\n",
    "\n",
    "filename = os.listdir(\"D:\\\\CS第四学期课程\\\\毕业设计\\\\代码\\\\data\\\\backup\\\\allMirrors\\\\\")  #原图片集所在目录\n",
    "base_dir = \"D:\\\\CS第四学期课程\\\\毕业设计\\\\代码\\\\data\\\\backup\\\\allMirrors\\\\\"\n",
    "new_dir  = \"D:\\\\CS第四学期课程\\\\毕业设计\\\\代码\\\\data\\\\backup\\\\smaller\\\\\"    #缩放后的图片存放的路径\n",
    "new_longest = 64         #设置新图像最长边像素数\n",
    "\n",
    "for img in filename:      #遍历文件夹中的图片\n",
    "    image = Image.open(base_dir + img)\n",
    "    width =image.size[0]   #原图宽\n",
    "    height =image.size[1]  #原图高\n",
    "    #以下代码实现按设置好的最长边像素数缩放图片，并保持宽高比不变\n",
    "    if(width>=height):\n",
    "        longest=width\n",
    "        new_height = int(height * new_longest / width)\n",
    "        out=image.resize((new_longest,new_height),Image.ANTIALIAS)\n",
    "    else:\n",
    "        longest=height\n",
    "        new_width = int(width * new_longest / height)\n",
    "        out=image.resize((new_width,new_longest),Image.ANTIALIAS)\n",
    "    out.save(new_dir+ img)   #保存新图片\n",
    "\n"
   ]
  },
  {
   "attachments": {},
   "cell_type": "markdown",
   "id": "f507217e",
   "metadata": {},
   "source": [
    "### 64x64"
   ]
  },
  {
   "cell_type": "code",
   "execution_count": 1,
   "id": "b09379fe",
   "metadata": {},
   "outputs": [],
   "source": [
    "import os\n",
    "from PIL import Image\n",
    "\n",
    "filename = os.listdir(\n",
    "    \"D:\\\\CS第四学期课程\\\\毕业设计\\\\代码\\\\data\\\\backup\\\\allMirrors\\\\\")  # 原图片集所在目录\n",
    "base_dir = \"D:\\\\CS第四学期课程\\\\毕业设计\\\\代码\\\\data\\\\backup\\\\allMirrors\\\\\"\n",
    "new_dir = \"D:\\\\CS第四学期课程\\\\毕业设计\\\\代码\\\\data\\\\backup\\\\smaller方\\\\\"  # 缩放后的图片存放的路径\n",
    "new_longest = 64  # 设置新图像最长边像素数\n",
    "\n",
    "for img in filename:  # 遍历文件夹中的图片\n",
    "    image = Image.open(base_dir + img)\n",
    "    width = image.size[0]  # 原图宽\n",
    "    height = image.size[1]  # 原图高\n",
    "    # 以下代码实现按设置好的最长边像素数缩放图片，并保持宽高比不变\n",
    "    out = image.resize((new_longest, new_longest), Image.ANTIALIAS)\n",
    "    out.save(new_dir + img)  # 保存新图片\n"
   ]
  },
  {
   "attachments": {},
   "cell_type": "markdown",
   "id": "d582e09e",
   "metadata": {},
   "source": [
    "### 32x32\n"
   ]
  },
  {
   "cell_type": "code",
   "execution_count": 3,
   "metadata": {
    "collapsed": false
   },
   "outputs": [],
   "source": [
    "import os\n",
    "from PIL import Image\n",
    "\n",
    "filename = os.listdir(\n",
    "    \"D:\\\\CS第四学期课程\\\\毕业设计\\\\代码\\\\data\\\\backup\\\\allMirrors\\\\\")  # 原图片集所在目录\n",
    "base_dir = \"D:\\\\CS第四学期课程\\\\毕业设计\\\\代码\\\\data\\\\backup\\\\allMirrors\\\\\"\n",
    "new_dir = \"D:\\\\CS第四学期课程\\\\毕业设计\\\\代码\\\\data\\\\backup\\\\smaller32\\\\\"  # 缩放后的图片存放的路径\n",
    "\n",
    "new_longest = 32  # 设置新图像最长边像素数\n",
    "for img in filename:  # 遍历文件夹中的图片\n",
    "    image = Image.open(base_dir + img)\n",
    "    width = image.size[0]  # 原图宽\n",
    "    height = image.size[1]  # 原图高\n",
    "    # 以下代码实现按设置好的最长边像素数缩放图片，并保持宽高比不变\n",
    "    out = image.resize((new_longest, new_longest), Image.ANTIALIAS)\n",
    "    out.save(new_dir + img)  # 保存新图片\n"
   ]
  },
  {
   "cell_type": "code",
   "execution_count": 5,
   "id": "25423e57",
   "metadata": {},
   "outputs": [
    {
     "name": "stderr",
     "output_type": "stream",
     "text": [
      "C:\\Users\\Lenovo\\AppData\\Local\\Temp\\ipykernel_26240\\646841046.py:15: DeprecationWarning: ANTIALIAS is deprecated and will be removed in Pillow 10 (2023-07-01). Use Resampling.LANCZOS instead.\n",
      "  out = image.resize((new_longest, new_longest), Image.ANTIALIAS)\n"
     ]
    }
   ],
   "source": [
    "import os\n",
    "from PIL import Image\n",
    "\n",
    "filename = os.listdir(\n",
    "    \"G:\\\\毕设数据集\\\\引松渣片\\\\原始数据\\\\围岩类别ⅤB\\\\\")  # 原图片集所在目录\n",
    "base_dir = \"G:\\\\毕设数据集\\\\引松渣片\\\\原始数据\\\\围岩类别ⅤB\\\\\"\n",
    "new_dir = \"G:\\\\毕设数据集\\\\引松渣片\\\\原始数据\\\\smaller32\\\\\"  # 缩放后的图片存放的路径\n",
    "\n",
    "new_longest = 32  # 设置新图像最长边像素数\n",
    "for img in filename:  # 遍历文件夹中的图片\n",
    "    image = Image.open(base_dir + img)\n",
    "    width = image.size[0]  # 原图宽\n",
    "    height = image.size[1]  # 原图高\n",
    "    # 以下代码实现按设置好的最长边像素数缩放图片，并保持宽高比不变\n",
    "    out = image.resize((new_longest, new_longest), Image.ANTIALIAS)\n",
    "    out.save(new_dir + img)  # 保存新图片"
   ]
  },
  {
   "attachments": {},
   "cell_type": "markdown",
   "id": "50d1c766",
   "metadata": {},
   "source": [
    "### 224x224"
   ]
  },
  {
   "cell_type": "code",
   "execution_count": 1,
   "id": "1a2f886b",
   "metadata": {},
   "outputs": [
    {
     "name": "stderr",
     "output_type": "stream",
     "text": [
      "C:\\Users\\ZhaoXiang\\AppData\\Local\\Temp\\ipykernel_18736\\1242929774.py:15: DeprecationWarning: ANTIALIAS is deprecated and will be removed in Pillow 10 (2023-07-01). Use Resampling.LANCZOS instead.\n",
      "  out = image.resize((new_longest, new_longest), Image.ANTIALIAS)\n"
     ]
    }
   ],
   "source": [
    "import os\n",
    "from PIL import Image\n",
    "\n",
    "filename = os.listdir(\n",
    "    \"D:\\\\CS第四学期课程\\\\毕业设计\\\\代码\\\\data\\\\backup\\\\allMirrors\\\\\")  # 原图片集所在目录\n",
    "base_dir = \"D:\\\\CS第四学期课程\\\\毕业设计\\\\代码\\\\data\\\\backup\\\\allMirrors\\\\\"\n",
    "new_dir = \"D:\\\\CS第四学期课程\\\\毕业设计\\\\代码\\\\data\\\\backup\\\\smaller224\\\\\"  # 缩放后的图片存放的路径\n",
    "new_longest = 224  # 设置新图像最长边像素数\n",
    "\n",
    "for img in filename:  # 遍历文件夹中的图片\n",
    "    image = Image.open(base_dir + img)\n",
    "    width = image.size[0]  # 原图宽\n",
    "    height = image.size[1]  # 原图高\n",
    "    # 以下代码实现按设置好的最长边像素数缩放图片，并保持宽高比不变\n",
    "    out = image.resize((new_longest, new_longest), Image.ANTIALIAS)\n",
    "    out.save(new_dir + img)  # 保存新图片\n"
   ]
  },
  {
   "attachments": {},
   "cell_type": "markdown",
   "id": "90304221",
   "metadata": {},
   "source": [
    "### 600*600"
   ]
  },
  {
   "cell_type": "code",
   "execution_count": 1,
   "id": "22a099b1",
   "metadata": {},
   "outputs": [
    {
     "name": "stderr",
     "output_type": "stream",
     "text": [
      "C:\\Users\\ZhaoXiang\\AppData\\Local\\Temp\\ipykernel_24068\\3776546824.py:15: DeprecationWarning: ANTIALIAS is deprecated and will be removed in Pillow 10 (2023-07-01). Use Resampling.LANCZOS instead.\n",
      "  out = image.resize((new_longest, new_longest), Image.ANTIALIAS)\n"
     ]
    }
   ],
   "source": [
    "import os\n",
    "from PIL import Image\n",
    "\n",
    "filename = os.listdir(\n",
    "    \"D:\\\\CS第四学期课程\\\\毕业设计\\\\代码\\\\data\\\\backup\\\\allMirrors\\\\\")  # 原图片集所在目录\n",
    "base_dir = \"D:\\\\CS第四学期课程\\\\毕业设计\\\\代码\\\\data\\\\backup\\\\allMirrors\\\\\"\n",
    "new_dir = \"D:\\\\CS第四学期课程\\\\毕业设计\\\\代码\\\\data\\\\backup\\\\smaller600\\\\\"  # 缩放后的图片存放的路径\n",
    "new_longest = 600  # 设置新图像最长边像素数\n",
    "\n",
    "for img in filename:  # 遍历文件夹中的图片\n",
    "    image = Image.open(base_dir + img)\n",
    "    width = image.size[0]  # 原图宽\n",
    "    height = image.size[1]  # 原图高\n",
    "    # 以下代码实现按设置好的最长边像素数缩放图片，并保持宽高比不变\n",
    "    out = image.resize((new_longest, new_longest), Image.ANTIALIAS)\n",
    "    out.save(new_dir + img)  # 保存新图片\n"
   ]
  },
  {
   "attachments": {},
   "cell_type": "markdown",
   "id": "b55890aa",
   "metadata": {},
   "source": [
    "## 对ULB进行操作"
   ]
  },
  {
   "cell_type": "code",
   "execution_count": 3,
   "id": "347d4a5e",
   "metadata": {},
   "outputs": [],
   "source": [
    "import os\n",
    "\n",
    "#文件夹路径\n",
    "folder_path = 'D:\\\\CS第四学期课程\\\\毕业设计\\\\代码\\\\data\\\\backup\\\\ulb_smaller32'\n",
    "\n",
    "#获取文件夹中所有文件名\n",
    "file_names = os.listdir(folder_path)\n",
    "\n",
    "#将文件名写入.txt文件\n",
    "with open('D:\\\\CS第四学期课程\\\\毕业设计\\\\代码\\\\data\\\\ulb_names.txt', 'w') as f:\n",
    "    for file_name in file_names:\n",
    "        f.write(file_name + '\\n')"
   ]
  }
 ],
 "metadata": {
  "kernelspec": {
   "display_name": "usb",
   "language": "python",
   "name": "python3"
  },
  "language_info": {
   "codemirror_mode": {
    "name": "ipython",
    "version": 3
   },
   "file_extension": ".py",
   "mimetype": "text/x-python",
   "name": "python",
   "nbconvert_exporter": "python",
   "pygments_lexer": "ipython3",
   "version": "3.10.0"
  },
  "vscode": {
   "interpreter": {
    "hash": "122e3b604d824ca9f0cb342ab92d67ce55ba7dc1d4a81cd18d981229d48b2058"
   }
  }
 },
 "nbformat": 4,
 "nbformat_minor": 5
}
